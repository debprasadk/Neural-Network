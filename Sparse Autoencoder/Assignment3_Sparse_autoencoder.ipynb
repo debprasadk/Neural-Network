{
 "cells": [
  {
   "cell_type": "code",
   "execution_count": 1,
   "id": "f684acb8",
   "metadata": {},
   "outputs": [],
   "source": [
    "import numpy as np\n",
    "import matplotlib.pyplot as plt\n",
    "from matplotlib.pyplot import figure\n",
    "from sklearn.metrics import confusion_matrix\n",
    "import os\n",
    "import urllib\n",
    "import urllib.request\n",
    "import gzip\n",
    "import struct\n",
    "import time\n",
    "\n",
    "#import mnist dataset\n",
    "from keras.datasets import mnist\n",
    "\n",
    "#classification on reconstructed data\n",
    "from sklearn.neighbors import KNeighborsClassifier \n",
    "\n",
    "import seaborn as sns"
   ]
  },
  {
   "cell_type": "code",
   "execution_count": 2,
   "id": "279ea83e",
   "metadata": {},
   "outputs": [],
   "source": [
    "def to_one_hot(labels, num_classes=10):\n",
    "        return np.eye(num_classes)[labels]"
   ]
  },
  {
   "cell_type": "code",
   "execution_count": 3,
   "id": "dd0776ca",
   "metadata": {},
   "outputs": [],
   "source": [
    "def sigmoid_function(signal, derivative=False):\n",
    "    if derivative:\n",
    "        return np.multiply(signal, 1.0 - signal)\n",
    "    else:\n",
    "        return 1.0 / (1.0 + np.exp(-signal))"
   ]
  },
  {
   "cell_type": "code",
   "execution_count": 4,
   "id": "142c126b",
   "metadata": {},
   "outputs": [],
   "source": [
    "def subtract_err(outputs, targets):\n",
    "    res = outputs - targets\n",
    "    return res"
   ]
  },
  {
   "cell_type": "code",
   "execution_count": 5,
   "id": "cabda385",
   "metadata": {},
   "outputs": [],
   "source": [
    "class LinearLayer:\n",
    "    def __init__(self, name, n_in, n_out, activation=sigmoid_function):\n",
    "        self.name = name\n",
    "        self.activation = activation\n",
    "        self.result = []\n",
    "\n",
    "        self.weights = 2 * np.random.random((n_in, n_out)) - 1\n",
    "        self.biases = np.zeros(n_out)\n",
    "\n",
    "    def get_output(self, x):\n",
    "        result = self.activation(x.dot(self.weights) + self.biases)\n",
    "        self.result = result\n",
    "        return result"
   ]
  },
  {
   "cell_type": "code",
   "execution_count": 6,
   "id": "200bad17",
   "metadata": {},
   "outputs": [],
   "source": [
    "class SparseLayer(LinearLayer):\n",
    "    def __init__(self, name, n_in, n_out, activation=sigmoid_function, num_k_sparse=10):\n",
    "        LinearLayer.__init__(self, name, n_in, n_out, activation)\n",
    "        self.num_k_sparse = num_k_sparse\n",
    "\n",
    "    def get_output(self, x):\n",
    "        result = self.activation(x.dot(self.weights) + self.biases)\n",
    "\n",
    "        k = self.num_k_sparse\n",
    "        if k < result.shape[1]:\n",
    "            for raw in result:\n",
    "                indices = np.argpartition(raw, -k)[-k:]\n",
    "                mask = np.ones(raw.shape, dtype=bool)\n",
    "                mask[indices] = False\n",
    "                raw[mask] = 0\n",
    "\n",
    "        self.result = result\n",
    "        return result"
   ]
  },
  {
   "cell_type": "code",
   "execution_count": 7,
   "id": "1f8f4148",
   "metadata": {},
   "outputs": [],
   "source": [
    "def costAE(self, theta, visible_input):\n",
    "    W1, W2, b1, b2 = self.unpack_theta(theta)\n",
    "\n",
    "    hidden_layer = self.sigmoid(np.dot(W1, visible_input) + b1)\n",
    "    output_layer = self.sigmoid(np.dot(W2, hidden_layer) + b2)\n",
    "    m = visible_input.shape[1] \n",
    "\n",
    "    error = -(visible_input - output_layer)\n",
    "    sum_sq_error =  0.5 * np.sum(error * error, axis = 0)\n",
    "    avg_sum_sq_error = np.mean(sum_sq_error)\n",
    "    reg_cost =  self.lambda_ * (np.sum(W1 * W1) + np.sum(W2 * W2)) / 2.0\n",
    "    rho_bar = np.mean(hidden_layer, axis=1)\n",
    "    KL_div = np.sum(self.rho * np.log(self.rho / rho_bar) + \n",
    "                    (1 - self.rho) * np.log((1-self.rho) / (1- rho_bar)))        \n",
    "    cost = avg_sum_sq_error + reg_cost + self.beta * KL_div\n",
    "\n",
    "    # Back propagation\n",
    "    KL_div_grad = self.beta * (- self.rho / rho_bar + (1 - self.rho) / \n",
    "                                (1 - rho_bar))\n",
    "\n",
    "    del_3 = error * output_layer * (1.0 - output_layer)\n",
    "    del_2 = np.transpose(W2).dot(del_3) + KL_div_grad[:, np.newaxis]\n",
    "    del_2 *= hidden_layer * (1 - hidden_layer)\n",
    "\n",
    "    W1_grad = del_2.dot(visible_input.transpose()) / m\n",
    "    W2_grad = del_3.dot(hidden_layer.transpose()) / m\n",
    "    b1_grad = del_2\n",
    "    b2_grad = del_3\n",
    "\n",
    "    W1_grad += self.lambda_ * W1 \n",
    "    W2_grad += self.lambda_ * W2\n",
    "    b1_grad = b1_grad.mean(axis = 1)\n",
    "    b2_grad = b2_grad.mean(axis = 1)\n",
    "\n",
    "    theta_grad = np.concatenate((W1_grad.flatten(), W2_grad.flatten(), \n",
    "                                 b1_grad.flatten(), b2_grad.flatten()))        \n",
    "    return [cost, theta_grad]"
   ]
  },
  {
   "cell_type": "code",
   "execution_count": 8,
   "id": "7cab7734",
   "metadata": {},
   "outputs": [],
   "source": [
    "class FCNeuralNet:\n",
    "    def __init__(self, layers, cost_func=subtract_err):\n",
    "        self.layers = layers\n",
    "        self.cost_func = cost_func\n",
    "\n",
    "    def print_network(self):\n",
    "        print(\"network:\")\n",
    "        for layer in self.layers:\n",
    "            print(\"layer - %s: weights: %s\" % (layer.name, layer.weights.shape))\n",
    "\n",
    "    def train(self, x, y, learning_rate=0.01, epochs=10000,batch_size=256):\n",
    "        start_time = time.time()\n",
    "\n",
    "        for k in range(epochs):\n",
    "            rand_indices = np.random.randint(x.shape[0], size=batch_size)\n",
    "            batch_x = x[rand_indices]\n",
    "            batch_y = y[rand_indices]\n",
    "\n",
    "            results = self.feed_forward(batch_x)\n",
    "\n",
    "            error = self.cost_func(results[-1], batch_y)\n",
    "            \n",
    "            \n",
    "            if (k+1)%100 == 0:\n",
    "                loss = np.mean(np.abs(error))\n",
    "                print(f\"epoch {k + 1}: loss {loss}\")\n",
    "            \n",
    "            deltas = self.back_propagate(results, error)\n",
    "            self.update_weights(results, deltas, learning_rate)\n",
    "\n",
    "        end_time = time.time() - start_time\n",
    "        elapsed_time = time.strftime(\"%H:%M:%S\", time.gmtime(end_time))\n",
    "        print(\"training complete, elapsed time:\", elapsed_time)\n",
    "\n",
    "    def feed_forward(self, x):\n",
    "        results = [x]\n",
    "        for i in range(len(self.layers)):\n",
    "            output_result = self.layers[i].get_output(results[i])\n",
    "            results.append(output_result)\n",
    "        return results\n",
    "\n",
    "    def back_propagate(self, results, error):\n",
    "        last_layer = self.layers[-1]\n",
    "        deltas = [error * last_layer.activation(results[-1], derivative=True)]\n",
    "        for i in range(len(results) - 2, 0, -1):\n",
    "            layer = self.layers[i]\n",
    "            delta = deltas[-1].dot(layer.weights.T) * layer.activation(results[i], derivative=True)\n",
    "            deltas.append(delta)\n",
    "\n",
    "        deltas.reverse()\n",
    "        return deltas\n",
    "\n",
    "    def update_weights(self, results, deltas, learning_rate):\n",
    "        for i in range(len(self.layers)):\n",
    "            layer = self.layers[i]\n",
    "            layer_result = results[i]\n",
    "            delta = deltas[i]\n",
    "            layer.weights -= learning_rate * layer_result.T.dot(delta)\n",
    "            # layer.biases += delta\n",
    "\n",
    "    def predict(self, x):\n",
    "        return self.feed_forward(x)[-1]\n",
    "\n",
    "    def accuracy(self, x_data, y_labels):\n",
    "        predictions = np.argmax(self.predict(x_data), axis=1)\n",
    "        labels = np.argmax(y_labels, axis=1)\n",
    "        accuracy = np.mean(predictions == labels)\n",
    "        return accuracy * 100"
   ]
  },
  {
   "cell_type": "code",
   "execution_count": 9,
   "id": "35825160",
   "metadata": {},
   "outputs": [],
   "source": [
    "def add_plot_images(images, cols=15, img_size=14, title=None):\n",
    "    n_images = len(images)    \n",
    "    fig = plt.figure(figsize=(30, 5))\n",
    "    plt.title(title, fontsize=24)\n",
    "    plt.axis('off')\n",
    "    rows = int(n_images / cols)\n",
    "    for i in range(1, n_images + 1):\n",
    "        img = images[i - 1]\n",
    "        fig.add_subplot(rows, cols, i)\n",
    "        plt.axis('off')\n",
    "        plt.imshow(img)"
   ]
  },
  {
   "cell_type": "code",
   "execution_count": 10,
   "id": "fc16266b",
   "metadata": {},
   "outputs": [],
   "source": [
    "(train_img, train_lbl), (test_img, test_lbl) = mnist.load_data()"
   ]
  },
  {
   "cell_type": "code",
   "execution_count": 11,
   "id": "24aef041",
   "metadata": {},
   "outputs": [],
   "source": [
    "train_lbl = to_one_hot(train_lbl)\n",
    "test_lbl = to_one_hot(test_lbl)"
   ]
  },
  {
   "cell_type": "code",
   "execution_count": 12,
   "id": "4e04eda1",
   "metadata": {},
   "outputs": [],
   "source": [
    "img_size = 28\n",
    "num_hidden = 200\n",
    "k = 10\n",
    "learning_rate = 0.01\n",
    "epochs = 2000\n",
    "batch_size = 256\n",
    "num_test_examples = 15\n",
    "\n",
    "x_data = train_img.reshape(-1, img_size * img_size) / float(256)\n",
    "test_data = test_img.reshape(-1, img_size * img_size) / float(256)"
   ]
  },
  {
   "cell_type": "code",
   "execution_count": 13,
   "id": "eed79adb",
   "metadata": {},
   "outputs": [
    {
     "name": "stdout",
     "output_type": "stream",
     "text": [
      "network:\n",
      "layer - hidden 1: weights: (784, 200)\n",
      "layer - hidden 2: weights: (200, 100)\n",
      "layer - output: weights: (100, 784)\n"
     ]
    }
   ],
   "source": [
    "layers = [\n",
    "    SparseLayer(name=\"hidden 1\", n_in=x_data.shape[1], n_out=num_hidden,\n",
    "                activation=sigmoid_function, num_k_sparse=k),\n",
    "    SparseLayer(name=\"hidden 2\", n_in=num_hidden, n_out=100,\n",
    "                activation=sigmoid_function, num_k_sparse=k),\n",
    "    LinearLayer(name=\"output\", n_in=100, n_out=x_data.shape[1], activation=sigmoid_function)\n",
    "]\n",
    "global nn\n",
    "nn = FCNeuralNet(layers=layers, cost_func=subtract_err)\n",
    "nn.print_network()"
   ]
  },
  {
   "cell_type": "code",
   "execution_count": 14,
   "id": "d231d17f",
   "metadata": {},
   "outputs": [
    {
     "name": "stdout",
     "output_type": "stream",
     "text": [
      "epoch 100: loss 0.12941367625314645\n",
      "epoch 200: loss 0.12360953680936991\n",
      "epoch 300: loss 0.11855259030166714\n",
      "epoch 400: loss 0.1164645796969695\n",
      "epoch 500: loss 0.11182418527809392\n",
      "epoch 600: loss 0.10947288382204368\n",
      "epoch 700: loss 0.10591237883171195\n",
      "epoch 800: loss 0.09928394023592894\n",
      "epoch 900: loss 0.10561610310274756\n",
      "epoch 1000: loss 0.10347112067214444\n",
      "epoch 1100: loss 0.10249880083717725\n",
      "epoch 1200: loss 0.102285123915468\n",
      "epoch 1300: loss 0.09982351970437166\n",
      "epoch 1400: loss 0.09986798023608524\n",
      "epoch 1500: loss 0.09849880332330395\n",
      "epoch 1600: loss 0.09667761884552437\n",
      "epoch 1700: loss 0.09833550758211085\n",
      "epoch 1800: loss 0.09635211341365153\n",
      "epoch 1900: loss 0.09719369939050941\n",
      "epoch 2000: loss 0.09478429662034056\n",
      "training complete, elapsed time: 00:02:03\n"
     ]
    }
   ],
   "source": [
    "nn.train(x_data, x_data, learning_rate=learning_rate, epochs=epochs, batch_size=batch_size)"
   ]
  },
  {
   "cell_type": "code",
   "execution_count": 15,
   "id": "81c06cee",
   "metadata": {},
   "outputs": [
    {
     "data": {
      "image/png": "[encoded data removed]",
      "text/plain": [
       "<Figure size 2160x360 with 31 Axes>"
      ]
     },
     "metadata": {
      "needs_background": "light"
     },
     "output_type": "display_data"
    }
   ],
   "source": [
    "n = num_test_examples\n",
    "\n",
    "test_samples = test_data[np.random.randint(test_data.shape[0], size=15)]\n",
    "encode_samples = nn.layers[0].weights.T\n",
    "output_samples = nn.predict(test_samples)\n",
    "\n",
    "global hidden_layer_op\n",
    "hidden_layer_op = nn.feed_forward(test_samples)\n",
    "global img_input\n",
    "global img_output\n",
    "global img_encode\n",
    "\n",
    "img_input = test_samples.reshape(-1, img_size, img_size)\n",
    "img_encode = encode_samples.reshape(-1, img_size, img_size)\n",
    "img_output = output_samples.reshape(-1, img_size, img_size)\n",
    "\n",
    "global all_images\n",
    "all_images = np.concatenate((img_input, img_output))\n",
    "\n",
    "add_plot_images(all_images, cols=15, img_size=img_size)\n",
    "plt.show()"
   ]
  },
  {
   "cell_type": "code",
   "execution_count": 16,
   "id": "3cf3a6ca",
   "metadata": {},
   "outputs": [],
   "source": [
    "x_data = train_img.reshape(-1, 28 * 28) / float(256) \n",
    "x_data_re = nn.predict(x_data)  \n",
    "y_data = train_lbl "
   ]
  },
  {
   "cell_type": "code",
   "execution_count": 17,
   "id": "9401bd69",
   "metadata": {},
   "outputs": [
    {
     "data": {
      "text/plain": [
       "<matplotlib.image.AxesImage at 0x212e12c7b80>"
      ]
     },
     "execution_count": 17,
     "metadata": {},
     "output_type": "execute_result"
    },
    {
     "data": {
      "image/png": "[encoded data removed]",
      "text/plain": [
       "<Figure size 432x288 with 1 Axes>"
      ]
     },
     "metadata": {
      "needs_background": "light"
     },
     "output_type": "display_data"
    }
   ],
   "source": [
    "plt.axis('off')\n",
    "plt.imshow(x_data[10].reshape((28,28)))"
   ]
  },
  {
   "cell_type": "code",
   "execution_count": 18,
   "id": "da6ab0d8",
   "metadata": {},
   "outputs": [
    {
     "data": {
      "text/plain": [
       "<matplotlib.image.AxesImage at 0x212811962e0>"
      ]
     },
     "execution_count": 18,
     "metadata": {},
     "output_type": "execute_result"
    },
    {
     "data": {
      "image/png": "[encoded data removed]",
      "text/plain": [
       "<Figure size 432x288 with 1 Axes>"
      ]
     },
     "metadata": {
      "needs_background": "light"
     },
     "output_type": "display_data"
    }
   ],
   "source": [
    "plt.axis('off')\n",
    "plt.imshow(x_data_re[10].reshape((28,28)))"
   ]
  },
  {
   "cell_type": "code",
   "execution_count": 19,
   "id": "74e15dae",
   "metadata": {},
   "outputs": [
    {
     "name": "stdout",
     "output_type": "stream",
     "text": [
      "Accuracy on original:  96.2\n"
     ]
    }
   ],
   "source": [
    "neigh = KNeighborsClassifier(n_neighbors=5)\n",
    "neigh.fit(x_data[500:], y_data[500:])\n",
    "pred_op = neigh.predict(x_data[:500])\n",
    "acco = np.all((pred_op == y_data[:500]), axis=1).sum() / pred_op.shape[0] * 100\n",
    "print ('Accuracy on original: ', acco)"
   ]
  },
  {
   "cell_type": "code",
   "execution_count": 20,
   "id": "697f8b52",
   "metadata": {},
   "outputs": [
    {
     "name": "stdout",
     "output_type": "stream",
     "text": [
      "Accuracy on reconstruted:  89.0\n"
     ]
    }
   ],
   "source": [
    "neigh.fit(x_data_re[500:], y_data[500:])                #classification on reconstructed data\n",
    "pred_op = neigh.predict(x_data[:500])\n",
    "accr = np.all((pred_op == y_data[:500]), axis=1).sum() / pred_op.shape[0] * 100\n",
    "print ('Accuracy on reconstruted: ', accr)"
   ]
  },
  {
   "cell_type": "code",
   "execution_count": 21,
   "id": "1bae05e2",
   "metadata": {},
   "outputs": [
    {
     "name": "stdout",
     "output_type": "stream",
     "text": [
      "[[50  0  0  0  0  0  0  0  0  0]\n",
      " [ 4 61  0  0  0  0  1  0  0  0]\n",
      " [ 3  1 46  0  0  0  0  2  0  0]\n",
      " [ 5  0  0 44  0  0  0  0  1  0]\n",
      " [ 2  0  0  0 48  0  0  0  0  2]\n",
      " [ 4  0  0  1  0 33  0  0  1  0]\n",
      " [ 1  0  0  0  0  0 44  0  0  0]\n",
      " [ 3  2  0  0  0  0  0 47  0  0]\n",
      " [ 3  0  0  2  0  2  0  0 32  0]\n",
      " [ 3  0  0  1  6  0  0  2  1 42]]\n"
     ]
    }
   ],
   "source": [
    "cm = confusion_matrix(np.argmax(y_data[:500], axis=1), np.argmax(pred_op, axis=1))\n",
    "print(cm)"
   ]
  },
  {
   "cell_type": "code",
   "execution_count": 22,
   "id": "626d0daa",
   "metadata": {},
   "outputs": [
    {
     "data": {
      "image/png": "[encoded data removed]",
      "text/plain": [
       "<Figure size 432x288 with 2 Axes>"
      ]
     },
     "metadata": {
      "needs_background": "light"
     },
     "output_type": "display_data"
    }
   ],
   "source": [
    "ax = sns.heatmap(cm, annot=True, cmap = plt.cm.magma)\n",
    "ax.set_title('Confusion Matrix\\n\\n');\n",
    "ax.set_xlabel('\\nPredicted Values')\n",
    "ax.set_ylabel('Actual Values ');\n",
    "plt.show()"
   ]
  },
  {
   "cell_type": "code",
   "execution_count": null,
   "id": "adcfeadf",
   "metadata": {},
   "outputs": [],
   "source": []
  }
 ],
 "metadata": {
  "kernelspec": {
   "display_name": "Python 3 (ipykernel)",
   "language": "python",
   "name": "python3"
  },
  "language_info": {
   "codemirror_mode": {
    "name": "ipython",
    "version": 3
   },
   "file_extension": ".py",
   "mimetype": "text/x-python",
   "name": "python",
   "nbconvert_exporter": "python",
   "pygments_lexer": "ipython3",
   "version": "3.9.7"
  }
 },
 "nbformat": 4,
 "nbformat_minor": 5
}
