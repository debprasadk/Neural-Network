{
 "cells": [
  {
   "cell_type": "markdown",
   "id": "84906d02",
   "metadata": {},
   "source": [
    "# Required Libraries"
   ]
  },
  {
   "cell_type": "code",
   "execution_count": 1,
   "id": "432c9533",
   "metadata": {},
   "outputs": [],
   "source": [
    "import numpy as np\n",
    "import matplotlib.pyplot as plt\n",
    "from keras.datasets import mnist"
   ]
  },
  {
   "cell_type": "markdown",
   "id": "d403fbf6",
   "metadata": {},
   "source": [
    "# Convolution Layer"
   ]
  },
  {
   "cell_type": "code",
   "execution_count": 2,
   "id": "a65da167",
   "metadata": {},
   "outputs": [],
   "source": [
    "# Conv 3*3\n",
    "class Conv3x3:\n",
    "    def __init__(self, num_filters):\n",
    "        self.num_filters = num_filters\n",
    "        self.filters = np.random.randn(num_filters, 3, 3) / 9\n",
    "\n",
    "    def iterate_regions(self, image):\n",
    "        h, w = image.shape\n",
    "\n",
    "        for i in range(h - 2):\n",
    "            for j in range(w - 2):\n",
    "                im_region = image[i:(i + 3), j:(j + 3)]\n",
    "                yield im_region, i, j\n",
    "\n",
    "    def forward(self, input):\n",
    "        self.last_input = input\n",
    "        h, w = input.shape\n",
    "        output = np.zeros((h - 2, w - 2, self.num_filters))\n",
    "\n",
    "        for im_region, i, j in self.iterate_regions(input):\n",
    "            output[i, j] = np.sum(im_region * self.filters, axis=(1, 2))\n",
    "\n",
    "        return output\n",
    "\n",
    "    def backprop(self, d_L_d_out, learn_rate):\n",
    "        d_L_d_filters = np.zeros(self.filters.shape)\n",
    "\n",
    "        for im_region, i, j in self.iterate_regions(self.last_input):\n",
    "            for f in range(self.num_filters):\n",
    "                d_L_d_filters[f] += d_L_d_out[i, j, f] * im_region\n",
    "        self.filters -= learn_rate * d_L_d_filters\n",
    "        return None"
   ]
  },
  {
   "cell_type": "markdown",
   "id": "481a658d",
   "metadata": {},
   "source": [
    "# Maxpooling Layer"
   ]
  },
  {
   "cell_type": "code",
   "execution_count": 3,
   "id": "d253839d",
   "metadata": {},
   "outputs": [],
   "source": [
    "# maxpool\n",
    "class MaxPool2:\n",
    "    def iterate_regions(self, image):\n",
    "        h, w, _ = image.shape\n",
    "        new_h = h // 2\n",
    "        new_w = w // 2\n",
    "\n",
    "        for i in range(new_h):\n",
    "            for j in range(new_w):\n",
    "                im_region = image[(i * 2):(i * 2 + 2), (j * 2):(j * 2 + 2)]\n",
    "                yield im_region, i, j\n",
    "\n",
    "    def forward(self, input):\n",
    "        self.last_input = input\n",
    "\n",
    "        h, w, num_filters = input.shape\n",
    "        output = np.zeros((h // 2, w // 2, num_filters))\n",
    "\n",
    "        for im_region, i, j in self.iterate_regions(input):\n",
    "            output[i, j] = np.amax(im_region, axis=(0, 1))\n",
    "\n",
    "        return output\n",
    "\n",
    "    def backprop(self, d_L_d_out):\n",
    "        d_L_d_input = np.zeros(self.last_input.shape)\n",
    "\n",
    "        for im_region, i, j in self.iterate_regions(self.last_input):\n",
    "            h, w, f = im_region.shape\n",
    "            amax = np.amax(im_region, axis=(0, 1))\n",
    "\n",
    "            for i2 in range(h):\n",
    "                for j2 in range(w):\n",
    "                    for f2 in range(f):\n",
    "                        # If this pixel was the max value, copy the gradient to it.\n",
    "                        if im_region[i2, j2, f2] == amax[f2]:\n",
    "                            d_L_d_input[i * 2 + i2, j * 2 + j2, f2] = d_L_d_out[i, j, f2]\n",
    "\n",
    "        return d_L_d_input"
   ]
  },
  {
   "cell_type": "markdown",
   "id": "ad879bc0",
   "metadata": {},
   "source": [
    "# Softmax Activation Function"
   ]
  },
  {
   "cell_type": "code",
   "execution_count": 4,
   "id": "9a887c99",
   "metadata": {},
   "outputs": [],
   "source": [
    "# softmax\n",
    "import numpy as np\n",
    "\n",
    "class Softmax:\n",
    "    def __init__(self, input_len, nodes):\n",
    "        self.weights = np.random.randn(input_len, nodes) / input_len\n",
    "        self.biases = np.zeros(nodes)\n",
    "\n",
    "    def forward(self, input):\n",
    "        self.last_input_shape = input.shape\n",
    "\n",
    "        input = input.flatten()\n",
    "        self.last_input = input\n",
    "\n",
    "        input_len, nodes = self.weights.shape\n",
    "\n",
    "        totals = np.dot(input, self.weights) + self.biases\n",
    "        self.last_totals = totals\n",
    "\n",
    "        exp = np.exp(totals)\n",
    "        return exp / np.sum(exp, axis=0)\n",
    "\n",
    "    def backprop(self, d_L_d_out, learn_rate):\n",
    "        for i, gradient in enumerate(d_L_d_out):\n",
    "            if gradient == 0:\n",
    "                continue\n",
    "            t_exp = np.exp(self.last_totals)\n",
    "            S = np.sum(t_exp)\n",
    "\n",
    "            d_out_d_t = -t_exp[i] * t_exp / (S ** 2)\n",
    "            d_out_d_t[i] = t_exp[i] * (S - t_exp[i]) / (S ** 2)\n",
    "\n",
    "            d_t_d_w = self.last_input\n",
    "            d_t_d_b = 1\n",
    "            d_t_d_inputs = self.weights\n",
    "\n",
    "            d_L_d_t = gradient * d_out_d_t\n",
    "\n",
    "            d_L_d_w = d_t_d_w[np.newaxis].T @ d_L_d_t[np.newaxis]\n",
    "            d_L_d_b = d_L_d_t * d_t_d_b\n",
    "            d_L_d_inputs = d_t_d_inputs @ d_L_d_t\n",
    "\n",
    "            # Update weights / biases\n",
    "            self.weights -= learn_rate * d_L_d_w\n",
    "            self.biases -= learn_rate * d_L_d_b\n",
    "\n",
    "        return d_L_d_inputs.reshape(self.last_input_shape)\n"
   ]
  },
  {
   "cell_type": "markdown",
   "id": "6f402a1b",
   "metadata": {},
   "source": [
    "# Function for Forword Propagation and Backword Propagation"
   ]
  },
  {
   "cell_type": "code",
   "execution_count": 5,
   "id": "8407dcbd",
   "metadata": {},
   "outputs": [],
   "source": [
    "# run\n",
    "\n",
    "conv = Conv3x3(8)                  # 28x28x1 -> 26x26x8\n",
    "pool = MaxPool2()                  # 26x26x8 -> 13x13x8\n",
    "softmax = Softmax(13 * 13 * 8, 10) # 13x13x8 -> 10\n",
    "\n",
    "def forward(image, label):\n",
    "    out = conv.forward((image / 255) - 0.5)\n",
    "    out = pool.forward(out)\n",
    "    out = softmax.forward(out)\n",
    "\n",
    "    loss = -np.log(out[label])\n",
    "    acc = 1 if np.argmax(out) == label else 0\n",
    "\n",
    "    return out, loss, acc\n",
    "\n",
    "def train(im, label, lr=.005):\n",
    "    out, loss, acc = forward(im, label)\n",
    "\n",
    "    gradient = np.zeros(10)\n",
    "    gradient[label] = -1 / out[label]\n",
    "\n",
    "    gradient = softmax.backprop(gradient, lr)\n",
    "    gradient = pool.backprop(gradient)\n",
    "    gradient = conv.backprop(gradient, lr)\n",
    "\n",
    "    return loss, acc\n"
   ]
  },
  {
   "cell_type": "markdown",
   "id": "67d1dba9",
   "metadata": {},
   "source": [
    "# Dataset"
   ]
  },
  {
   "cell_type": "code",
   "execution_count": 6,
   "id": "6133bffd",
   "metadata": {},
   "outputs": [],
   "source": [
    "(train_images, train_labels), (test_images, test_labels) = mnist.load_data()"
   ]
  },
  {
   "cell_type": "code",
   "execution_count": 7,
   "id": "38ae9b9d",
   "metadata": {},
   "outputs": [
    {
     "name": "stdout",
     "output_type": "stream",
     "text": [
      "Original data set:\n",
      "Size of Train_X (60000, 28, 28), size of Train_y (60000,)\n",
      "Size of Test_X (10000, 28, 28), size of Test_y (10000,)\n",
      "No of classes in training dataset: 10\n"
     ]
    }
   ],
   "source": [
    "print(\"Original data set:\")\n",
    "print(f'Size of Train_X {train_images.shape}, size of Train_y {train_labels.shape}')\n",
    "print(f'Size of Test_X {test_images.shape}, size of Test_y {test_labels.shape}')\n",
    "print(f'No of classes in training dataset: {len(np.unique(train_labels))}')"
   ]
  },
  {
   "cell_type": "code",
   "execution_count": 8,
   "id": "0738fa15",
   "metadata": {},
   "outputs": [],
   "source": [
    "n = 10000\n",
    "train_images, train_labels = train_images[:n], train_labels[:n]\n",
    "test_images, test_labels = test_images[:n//2], test_labels[:n//2]"
   ]
  },
  {
   "cell_type": "code",
   "execution_count": 9,
   "id": "9e291aac",
   "metadata": {},
   "outputs": [
    {
     "name": "stdout",
     "output_type": "stream",
     "text": [
      "Used Data set:\n",
      "Size of Train_X (10000, 28, 28), size of Train_y (10000,)\n",
      "Size of Test_X (5000, 28, 28), size of Test_y (5000,)\n",
      "No of classes in training dataset: 10\n"
     ]
    }
   ],
   "source": [
    "print('Used Data set:')\n",
    "print(f'Size of Train_X {train_images.shape}, size of Train_y {train_labels.shape}')\n",
    "print(f'Size of Test_X {test_images.shape}, size of Test_y {test_labels.shape}')\n",
    "print(f'No of classes in training dataset: {len(np.unique(train_labels))}')"
   ]
  },
  {
   "cell_type": "code",
   "execution_count": 10,
   "id": "b42a6bc0",
   "metadata": {},
   "outputs": [],
   "source": [
    "label_names = [i for i in range(10)]"
   ]
  },
  {
   "cell_type": "code",
   "execution_count": 11,
   "id": "c118d795",
   "metadata": {},
   "outputs": [
    {
     "name": "stdout",
     "output_type": "stream",
     "text": [
      "Counts of 0 : 1001\n",
      "Counts of 1 : 1127\n",
      "Counts of 2 : 991\n",
      "Counts of 3 : 1032\n",
      "Counts of 4 : 980\n",
      "Counts of 5 : 863\n",
      "Counts of 6 : 1014\n",
      "Counts of 7 : 1070\n",
      "Counts of 8 : 944\n",
      "Counts of 9 : 978\n"
     ]
    }
   ],
   "source": [
    "label_counts = dict(zip(*np.unique(train_labels, return_counts=True)))\n",
    "for key, value in label_counts.items():\n",
    "    print('Counts of {} : {}'.format(label_names[key], value))"
   ]
  },
  {
   "cell_type": "code",
   "execution_count": 12,
   "id": "9bd3daf1",
   "metadata": {},
   "outputs": [
    {
     "data": {
      "image/png": "[encoded data removed]",
      "text/plain": [
       "<Figure size 432x288 with 9 Axes>"
      ]
     },
     "metadata": {
      "needs_background": "light"
     },
     "output_type": "display_data"
    }
   ],
   "source": [
    "# plot first few images\n",
    "for i in range(9):\n",
    "# define subplot\n",
    "    plt.subplot(330 + 1 + i)\n",
    "    plt.axis('off')\n",
    "    plt.imshow(train_images[i])\n",
    "# show the figure\n",
    "plt.show()"
   ]
  },
  {
   "cell_type": "markdown",
   "id": "7a78e940",
   "metadata": {},
   "source": [
    "# Training"
   ]
  },
  {
   "cell_type": "code",
   "execution_count": 13,
   "id": "bf7ac196",
   "metadata": {},
   "outputs": [
    {
     "name": "stdout",
     "output_type": "stream",
     "text": [
      "--- Epoch 1 ---\n",
      "[Step 100] Past 100 steps: Average Loss 2.263 | Accuracy: 13%\n",
      "[Step 200] Past 100 steps: Average Loss 2.191 | Accuracy: 27%\n",
      "[Step 300] Past 100 steps: Average Loss 1.798 | Accuracy: 45%\n",
      "[Step 400] Past 100 steps: Average Loss 1.296 | Accuracy: 59%\n",
      "[Step 500] Past 100 steps: Average Loss 1.046 | Accuracy: 67%\n",
      "[Step 600] Past 100 steps: Average Loss 0.838 | Accuracy: 75%\n",
      "[Step 700] Past 100 steps: Average Loss 0.569 | Accuracy: 80%\n",
      "[Step 800] Past 100 steps: Average Loss 0.731 | Accuracy: 82%\n",
      "[Step 900] Past 100 steps: Average Loss 0.606 | Accuracy: 77%\n",
      "[Step 1000] Past 100 steps: Average Loss 0.709 | Accuracy: 78%\n",
      "[Step 1100] Past 100 steps: Average Loss 0.600 | Accuracy: 80%\n",
      "[Step 1200] Past 100 steps: Average Loss 0.605 | Accuracy: 83%\n",
      "[Step 1300] Past 100 steps: Average Loss 0.789 | Accuracy: 81%\n",
      "[Step 1400] Past 100 steps: Average Loss 0.607 | Accuracy: 84%\n",
      "[Step 1500] Past 100 steps: Average Loss 0.412 | Accuracy: 90%\n",
      "[Step 1600] Past 100 steps: Average Loss 0.711 | Accuracy: 79%\n",
      "[Step 1700] Past 100 steps: Average Loss 0.548 | Accuracy: 82%\n",
      "[Step 1800] Past 100 steps: Average Loss 0.638 | Accuracy: 83%\n",
      "[Step 1900] Past 100 steps: Average Loss 0.452 | Accuracy: 89%\n",
      "[Step 2000] Past 100 steps: Average Loss 0.680 | Accuracy: 89%\n",
      "[Step 2100] Past 100 steps: Average Loss 0.440 | Accuracy: 84%\n",
      "[Step 2200] Past 100 steps: Average Loss 0.324 | Accuracy: 89%\n",
      "[Step 2300] Past 100 steps: Average Loss 0.545 | Accuracy: 86%\n",
      "[Step 2400] Past 100 steps: Average Loss 0.341 | Accuracy: 88%\n",
      "[Step 2500] Past 100 steps: Average Loss 0.444 | Accuracy: 89%\n",
      "[Step 2600] Past 100 steps: Average Loss 0.447 | Accuracy: 90%\n",
      "[Step 2700] Past 100 steps: Average Loss 0.383 | Accuracy: 90%\n",
      "[Step 2800] Past 100 steps: Average Loss 0.221 | Accuracy: 98%\n",
      "[Step 2900] Past 100 steps: Average Loss 0.237 | Accuracy: 93%\n",
      "[Step 3000] Past 100 steps: Average Loss 0.550 | Accuracy: 84%\n",
      "[Step 3100] Past 100 steps: Average Loss 0.693 | Accuracy: 79%\n",
      "[Step 3200] Past 100 steps: Average Loss 0.579 | Accuracy: 85%\n",
      "[Step 3300] Past 100 steps: Average Loss 0.430 | Accuracy: 89%\n",
      "[Step 3400] Past 100 steps: Average Loss 0.492 | Accuracy: 82%\n",
      "[Step 3500] Past 100 steps: Average Loss 0.545 | Accuracy: 83%\n",
      "[Step 3600] Past 100 steps: Average Loss 0.459 | Accuracy: 83%\n",
      "[Step 3700] Past 100 steps: Average Loss 0.314 | Accuracy: 89%\n",
      "[Step 3800] Past 100 steps: Average Loss 0.418 | Accuracy: 90%\n",
      "[Step 3900] Past 100 steps: Average Loss 0.532 | Accuracy: 86%\n",
      "[Step 4000] Past 100 steps: Average Loss 0.516 | Accuracy: 82%\n",
      "[Step 4100] Past 100 steps: Average Loss 0.477 | Accuracy: 87%\n",
      "[Step 4200] Past 100 steps: Average Loss 0.651 | Accuracy: 83%\n",
      "[Step 4300] Past 100 steps: Average Loss 0.319 | Accuracy: 89%\n",
      "[Step 4400] Past 100 steps: Average Loss 0.248 | Accuracy: 94%\n",
      "[Step 4500] Past 100 steps: Average Loss 0.447 | Accuracy: 86%\n",
      "[Step 4600] Past 100 steps: Average Loss 0.482 | Accuracy: 86%\n",
      "[Step 4700] Past 100 steps: Average Loss 0.262 | Accuracy: 93%\n",
      "[Step 4800] Past 100 steps: Average Loss 0.429 | Accuracy: 87%\n",
      "[Step 4900] Past 100 steps: Average Loss 0.412 | Accuracy: 87%\n",
      "[Step 5000] Past 100 steps: Average Loss 0.480 | Accuracy: 85%\n",
      "[Step 5100] Past 100 steps: Average Loss 0.408 | Accuracy: 87%\n",
      "[Step 5200] Past 100 steps: Average Loss 0.378 | Accuracy: 87%\n",
      "[Step 5300] Past 100 steps: Average Loss 0.278 | Accuracy: 94%\n",
      "[Step 5400] Past 100 steps: Average Loss 0.218 | Accuracy: 93%\n",
      "[Step 5500] Past 100 steps: Average Loss 0.497 | Accuracy: 82%\n",
      "[Step 5600] Past 100 steps: Average Loss 0.241 | Accuracy: 94%\n",
      "[Step 5700] Past 100 steps: Average Loss 0.279 | Accuracy: 91%\n",
      "[Step 5800] Past 100 steps: Average Loss 0.276 | Accuracy: 91%\n",
      "[Step 5900] Past 100 steps: Average Loss 0.268 | Accuracy: 93%\n",
      "[Step 6000] Past 100 steps: Average Loss 0.474 | Accuracy: 88%\n",
      "[Step 6100] Past 100 steps: Average Loss 0.231 | Accuracy: 93%\n",
      "[Step 6200] Past 100 steps: Average Loss 0.231 | Accuracy: 92%\n",
      "[Step 6300] Past 100 steps: Average Loss 0.270 | Accuracy: 91%\n",
      "[Step 6400] Past 100 steps: Average Loss 0.593 | Accuracy: 86%\n",
      "[Step 6500] Past 100 steps: Average Loss 0.453 | Accuracy: 87%\n",
      "[Step 6600] Past 100 steps: Average Loss 0.307 | Accuracy: 89%\n",
      "[Step 6700] Past 100 steps: Average Loss 0.361 | Accuracy: 91%\n",
      "[Step 6800] Past 100 steps: Average Loss 0.432 | Accuracy: 85%\n",
      "[Step 6900] Past 100 steps: Average Loss 0.338 | Accuracy: 89%\n",
      "[Step 7000] Past 100 steps: Average Loss 0.381 | Accuracy: 91%\n",
      "[Step 7100] Past 100 steps: Average Loss 0.309 | Accuracy: 93%\n",
      "[Step 7200] Past 100 steps: Average Loss 0.395 | Accuracy: 88%\n",
      "[Step 7300] Past 100 steps: Average Loss 0.316 | Accuracy: 92%\n",
      "[Step 7400] Past 100 steps: Average Loss 0.243 | Accuracy: 93%\n",
      "[Step 7500] Past 100 steps: Average Loss 0.397 | Accuracy: 87%\n",
      "[Step 7600] Past 100 steps: Average Loss 0.356 | Accuracy: 91%\n",
      "[Step 7700] Past 100 steps: Average Loss 0.234 | Accuracy: 94%\n",
      "[Step 7800] Past 100 steps: Average Loss 0.274 | Accuracy: 92%\n",
      "[Step 7900] Past 100 steps: Average Loss 0.399 | Accuracy: 86%\n",
      "[Step 8000] Past 100 steps: Average Loss 0.221 | Accuracy: 92%\n",
      "[Step 8100] Past 100 steps: Average Loss 0.515 | Accuracy: 84%\n",
      "[Step 8200] Past 100 steps: Average Loss 0.339 | Accuracy: 89%\n",
      "[Step 8300] Past 100 steps: Average Loss 0.194 | Accuracy: 96%\n",
      "[Step 8400] Past 100 steps: Average Loss 0.392 | Accuracy: 89%\n",
      "[Step 8500] Past 100 steps: Average Loss 0.313 | Accuracy: 91%\n",
      "[Step 8600] Past 100 steps: Average Loss 0.200 | Accuracy: 93%\n",
      "[Step 8700] Past 100 steps: Average Loss 0.345 | Accuracy: 89%\n",
      "[Step 8800] Past 100 steps: Average Loss 0.310 | Accuracy: 90%\n",
      "[Step 8900] Past 100 steps: Average Loss 0.347 | Accuracy: 87%\n",
      "[Step 9000] Past 100 steps: Average Loss 0.226 | Accuracy: 95%\n",
      "[Step 9100] Past 100 steps: Average Loss 0.351 | Accuracy: 90%\n",
      "[Step 9200] Past 100 steps: Average Loss 0.199 | Accuracy: 96%\n",
      "[Step 9300] Past 100 steps: Average Loss 0.325 | Accuracy: 94%\n",
      "[Step 9400] Past 100 steps: Average Loss 0.326 | Accuracy: 88%\n",
      "[Step 9500] Past 100 steps: Average Loss 0.363 | Accuracy: 90%\n",
      "[Step 9600] Past 100 steps: Average Loss 0.420 | Accuracy: 93%\n",
      "[Step 9700] Past 100 steps: Average Loss 0.367 | Accuracy: 87%\n",
      "[Step 9800] Past 100 steps: Average Loss 0.308 | Accuracy: 91%\n",
      "[Step 9900] Past 100 steps: Average Loss 0.303 | Accuracy: 92%\n",
      "[Step 10000] Past 100 steps: Average Loss 0.247 | Accuracy: 93%\n",
      "--- Epoch 2 ---\n",
      "[Step 100] Past 100 steps: Average Loss 0.120 | Accuracy: 96%\n",
      "[Step 200] Past 100 steps: Average Loss 0.213 | Accuracy: 93%\n",
      "[Step 300] Past 100 steps: Average Loss 0.673 | Accuracy: 83%\n",
      "[Step 400] Past 100 steps: Average Loss 0.251 | Accuracy: 91%\n",
      "[Step 500] Past 100 steps: Average Loss 0.220 | Accuracy: 95%\n",
      "[Step 600] Past 100 steps: Average Loss 0.187 | Accuracy: 92%\n",
      "[Step 700] Past 100 steps: Average Loss 0.211 | Accuracy: 95%\n",
      "[Step 800] Past 100 steps: Average Loss 0.485 | Accuracy: 85%\n",
      "[Step 900] Past 100 steps: Average Loss 0.211 | Accuracy: 93%\n",
      "[Step 1000] Past 100 steps: Average Loss 0.406 | Accuracy: 87%\n",
      "[Step 1100] Past 100 steps: Average Loss 0.392 | Accuracy: 87%\n",
      "[Step 1200] Past 100 steps: Average Loss 0.265 | Accuracy: 92%\n",
      "[Step 1300] Past 100 steps: Average Loss 0.292 | Accuracy: 90%\n",
      "[Step 1400] Past 100 steps: Average Loss 0.144 | Accuracy: 97%\n",
      "[Step 1500] Past 100 steps: Average Loss 0.157 | Accuracy: 96%\n",
      "[Step 1600] Past 100 steps: Average Loss 0.256 | Accuracy: 94%\n",
      "[Step 1700] Past 100 steps: Average Loss 0.335 | Accuracy: 92%\n",
      "[Step 1800] Past 100 steps: Average Loss 0.252 | Accuracy: 92%\n",
      "[Step 1900] Past 100 steps: Average Loss 0.278 | Accuracy: 94%\n",
      "[Step 2000] Past 100 steps: Average Loss 0.349 | Accuracy: 92%\n",
      "[Step 2100] Past 100 steps: Average Loss 0.281 | Accuracy: 94%\n",
      "[Step 2200] Past 100 steps: Average Loss 0.251 | Accuracy: 93%\n",
      "[Step 2300] Past 100 steps: Average Loss 0.328 | Accuracy: 89%\n",
      "[Step 2400] Past 100 steps: Average Loss 0.172 | Accuracy: 96%\n",
      "[Step 2500] Past 100 steps: Average Loss 0.193 | Accuracy: 95%\n",
      "[Step 2600] Past 100 steps: Average Loss 0.237 | Accuracy: 92%\n",
      "[Step 2700] Past 100 steps: Average Loss 0.208 | Accuracy: 93%\n",
      "[Step 2800] Past 100 steps: Average Loss 0.177 | Accuracy: 95%\n",
      "[Step 2900] Past 100 steps: Average Loss 0.270 | Accuracy: 90%\n",
      "[Step 3000] Past 100 steps: Average Loss 0.178 | Accuracy: 93%\n"
     ]
    },
    {
     "name": "stdout",
     "output_type": "stream",
     "text": [
      "[Step 3100] Past 100 steps: Average Loss 0.208 | Accuracy: 94%\n",
      "[Step 3200] Past 100 steps: Average Loss 0.522 | Accuracy: 87%\n",
      "[Step 3300] Past 100 steps: Average Loss 0.216 | Accuracy: 94%\n",
      "[Step 3400] Past 100 steps: Average Loss 0.359 | Accuracy: 91%\n",
      "[Step 3500] Past 100 steps: Average Loss 0.209 | Accuracy: 95%\n",
      "[Step 3600] Past 100 steps: Average Loss 0.256 | Accuracy: 93%\n",
      "[Step 3700] Past 100 steps: Average Loss 0.305 | Accuracy: 92%\n",
      "[Step 3800] Past 100 steps: Average Loss 0.354 | Accuracy: 89%\n",
      "[Step 3900] Past 100 steps: Average Loss 0.260 | Accuracy: 93%\n",
      "[Step 4000] Past 100 steps: Average Loss 0.232 | Accuracy: 93%\n",
      "[Step 4100] Past 100 steps: Average Loss 0.183 | Accuracy: 97%\n",
      "[Step 4200] Past 100 steps: Average Loss 0.246 | Accuracy: 93%\n",
      "[Step 4300] Past 100 steps: Average Loss 0.224 | Accuracy: 96%\n",
      "[Step 4400] Past 100 steps: Average Loss 0.220 | Accuracy: 93%\n",
      "[Step 4500] Past 100 steps: Average Loss 0.387 | Accuracy: 85%\n",
      "[Step 4600] Past 100 steps: Average Loss 0.227 | Accuracy: 94%\n",
      "[Step 4700] Past 100 steps: Average Loss 0.206 | Accuracy: 92%\n",
      "[Step 4800] Past 100 steps: Average Loss 0.250 | Accuracy: 93%\n",
      "[Step 4900] Past 100 steps: Average Loss 0.296 | Accuracy: 92%\n",
      "[Step 5000] Past 100 steps: Average Loss 0.256 | Accuracy: 92%\n",
      "[Step 5100] Past 100 steps: Average Loss 0.169 | Accuracy: 93%\n",
      "[Step 5200] Past 100 steps: Average Loss 0.168 | Accuracy: 95%\n",
      "[Step 5300] Past 100 steps: Average Loss 0.228 | Accuracy: 94%\n",
      "[Step 5400] Past 100 steps: Average Loss 0.362 | Accuracy: 89%\n",
      "[Step 5500] Past 100 steps: Average Loss 0.212 | Accuracy: 96%\n",
      "[Step 5600] Past 100 steps: Average Loss 0.217 | Accuracy: 95%\n",
      "[Step 5700] Past 100 steps: Average Loss 0.400 | Accuracy: 90%\n",
      "[Step 5800] Past 100 steps: Average Loss 0.204 | Accuracy: 93%\n",
      "[Step 5900] Past 100 steps: Average Loss 0.388 | Accuracy: 90%\n",
      "[Step 6000] Past 100 steps: Average Loss 0.326 | Accuracy: 91%\n",
      "[Step 6100] Past 100 steps: Average Loss 0.195 | Accuracy: 95%\n",
      "[Step 6200] Past 100 steps: Average Loss 0.219 | Accuracy: 91%\n",
      "[Step 6300] Past 100 steps: Average Loss 0.269 | Accuracy: 93%\n",
      "[Step 6400] Past 100 steps: Average Loss 0.202 | Accuracy: 96%\n",
      "[Step 6500] Past 100 steps: Average Loss 0.342 | Accuracy: 87%\n",
      "[Step 6600] Past 100 steps: Average Loss 0.244 | Accuracy: 89%\n",
      "[Step 6700] Past 100 steps: Average Loss 0.220 | Accuracy: 94%\n",
      "[Step 6800] Past 100 steps: Average Loss 0.297 | Accuracy: 91%\n",
      "[Step 6900] Past 100 steps: Average Loss 0.190 | Accuracy: 91%\n",
      "[Step 7000] Past 100 steps: Average Loss 0.226 | Accuracy: 94%\n",
      "[Step 7100] Past 100 steps: Average Loss 0.102 | Accuracy: 97%\n",
      "[Step 7200] Past 100 steps: Average Loss 0.294 | Accuracy: 94%\n",
      "[Step 7300] Past 100 steps: Average Loss 0.184 | Accuracy: 93%\n",
      "[Step 7400] Past 100 steps: Average Loss 0.242 | Accuracy: 95%\n",
      "[Step 7500] Past 100 steps: Average Loss 0.196 | Accuracy: 98%\n",
      "[Step 7600] Past 100 steps: Average Loss 0.259 | Accuracy: 90%\n",
      "[Step 7700] Past 100 steps: Average Loss 0.175 | Accuracy: 96%\n",
      "[Step 7800] Past 100 steps: Average Loss 0.183 | Accuracy: 93%\n",
      "[Step 7900] Past 100 steps: Average Loss 0.266 | Accuracy: 93%\n",
      "[Step 8000] Past 100 steps: Average Loss 0.214 | Accuracy: 95%\n",
      "[Step 8100] Past 100 steps: Average Loss 0.289 | Accuracy: 90%\n",
      "[Step 8200] Past 100 steps: Average Loss 0.212 | Accuracy: 93%\n",
      "[Step 8300] Past 100 steps: Average Loss 0.244 | Accuracy: 94%\n",
      "[Step 8400] Past 100 steps: Average Loss 0.319 | Accuracy: 93%\n",
      "[Step 8500] Past 100 steps: Average Loss 0.195 | Accuracy: 95%\n",
      "[Step 8600] Past 100 steps: Average Loss 0.240 | Accuracy: 96%\n",
      "[Step 8700] Past 100 steps: Average Loss 0.244 | Accuracy: 95%\n",
      "[Step 8800] Past 100 steps: Average Loss 0.143 | Accuracy: 96%\n",
      "[Step 8900] Past 100 steps: Average Loss 0.150 | Accuracy: 94%\n",
      "[Step 9000] Past 100 steps: Average Loss 0.319 | Accuracy: 94%\n",
      "[Step 9100] Past 100 steps: Average Loss 0.117 | Accuracy: 96%\n",
      "[Step 9200] Past 100 steps: Average Loss 0.185 | Accuracy: 94%\n",
      "[Step 9300] Past 100 steps: Average Loss 0.452 | Accuracy: 86%\n",
      "[Step 9400] Past 100 steps: Average Loss 0.186 | Accuracy: 95%\n",
      "[Step 9500] Past 100 steps: Average Loss 0.393 | Accuracy: 88%\n",
      "[Step 9600] Past 100 steps: Average Loss 0.227 | Accuracy: 94%\n",
      "[Step 9700] Past 100 steps: Average Loss 0.278 | Accuracy: 93%\n",
      "[Step 9800] Past 100 steps: Average Loss 0.226 | Accuracy: 94%\n",
      "[Step 9900] Past 100 steps: Average Loss 0.163 | Accuracy: 94%\n",
      "[Step 10000] Past 100 steps: Average Loss 0.224 | Accuracy: 94%\n",
      "--- Epoch 3 ---\n",
      "[Step 100] Past 100 steps: Average Loss 0.232 | Accuracy: 95%\n",
      "[Step 200] Past 100 steps: Average Loss 0.199 | Accuracy: 95%\n",
      "[Step 300] Past 100 steps: Average Loss 0.180 | Accuracy: 96%\n",
      "[Step 400] Past 100 steps: Average Loss 0.210 | Accuracy: 94%\n",
      "[Step 500] Past 100 steps: Average Loss 0.101 | Accuracy: 99%\n",
      "[Step 600] Past 100 steps: Average Loss 0.205 | Accuracy: 91%\n",
      "[Step 700] Past 100 steps: Average Loss 0.186 | Accuracy: 94%\n",
      "[Step 800] Past 100 steps: Average Loss 0.108 | Accuracy: 95%\n",
      "[Step 900] Past 100 steps: Average Loss 0.189 | Accuracy: 92%\n",
      "[Step 1000] Past 100 steps: Average Loss 0.189 | Accuracy: 94%\n",
      "[Step 1100] Past 100 steps: Average Loss 0.144 | Accuracy: 98%\n",
      "[Step 1200] Past 100 steps: Average Loss 0.353 | Accuracy: 93%\n",
      "[Step 1300] Past 100 steps: Average Loss 0.261 | Accuracy: 94%\n",
      "[Step 1400] Past 100 steps: Average Loss 0.088 | Accuracy: 99%\n",
      "[Step 1500] Past 100 steps: Average Loss 0.251 | Accuracy: 92%\n",
      "[Step 1600] Past 100 steps: Average Loss 0.155 | Accuracy: 94%\n",
      "[Step 1700] Past 100 steps: Average Loss 0.274 | Accuracy: 92%\n",
      "[Step 1800] Past 100 steps: Average Loss 0.228 | Accuracy: 94%\n",
      "[Step 1900] Past 100 steps: Average Loss 0.131 | Accuracy: 94%\n",
      "[Step 2000] Past 100 steps: Average Loss 0.350 | Accuracy: 90%\n",
      "[Step 2100] Past 100 steps: Average Loss 0.232 | Accuracy: 92%\n",
      "[Step 2200] Past 100 steps: Average Loss 0.339 | Accuracy: 89%\n",
      "[Step 2300] Past 100 steps: Average Loss 0.310 | Accuracy: 92%\n",
      "[Step 2400] Past 100 steps: Average Loss 0.132 | Accuracy: 95%\n",
      "[Step 2500] Past 100 steps: Average Loss 0.224 | Accuracy: 93%\n",
      "[Step 2600] Past 100 steps: Average Loss 0.084 | Accuracy: 97%\n",
      "[Step 2700] Past 100 steps: Average Loss 0.115 | Accuracy: 97%\n",
      "[Step 2800] Past 100 steps: Average Loss 0.211 | Accuracy: 95%\n",
      "[Step 2900] Past 100 steps: Average Loss 0.201 | Accuracy: 92%\n",
      "[Step 3000] Past 100 steps: Average Loss 0.183 | Accuracy: 93%\n",
      "[Step 3100] Past 100 steps: Average Loss 0.225 | Accuracy: 92%\n",
      "[Step 3200] Past 100 steps: Average Loss 0.319 | Accuracy: 91%\n",
      "[Step 3300] Past 100 steps: Average Loss 0.175 | Accuracy: 94%\n",
      "[Step 3400] Past 100 steps: Average Loss 0.175 | Accuracy: 94%\n",
      "[Step 3500] Past 100 steps: Average Loss 0.200 | Accuracy: 93%\n",
      "[Step 3600] Past 100 steps: Average Loss 0.372 | Accuracy: 91%\n",
      "[Step 3700] Past 100 steps: Average Loss 0.211 | Accuracy: 95%\n",
      "[Step 3800] Past 100 steps: Average Loss 0.180 | Accuracy: 94%\n",
      "[Step 3900] Past 100 steps: Average Loss 0.127 | Accuracy: 94%\n",
      "[Step 4000] Past 100 steps: Average Loss 0.189 | Accuracy: 94%\n",
      "[Step 4100] Past 100 steps: Average Loss 0.147 | Accuracy: 94%\n",
      "[Step 4200] Past 100 steps: Average Loss 0.155 | Accuracy: 96%\n",
      "[Step 4300] Past 100 steps: Average Loss 0.109 | Accuracy: 96%\n",
      "[Step 4400] Past 100 steps: Average Loss 0.175 | Accuracy: 94%\n",
      "[Step 4500] Past 100 steps: Average Loss 0.396 | Accuracy: 87%\n",
      "[Step 4600] Past 100 steps: Average Loss 0.164 | Accuracy: 95%\n",
      "[Step 4700] Past 100 steps: Average Loss 0.090 | Accuracy: 97%\n",
      "[Step 4800] Past 100 steps: Average Loss 0.197 | Accuracy: 96%\n",
      "[Step 4900] Past 100 steps: Average Loss 0.083 | Accuracy: 96%\n",
      "[Step 5000] Past 100 steps: Average Loss 0.232 | Accuracy: 93%\n",
      "[Step 5100] Past 100 steps: Average Loss 0.177 | Accuracy: 93%\n",
      "[Step 5200] Past 100 steps: Average Loss 0.084 | Accuracy: 97%\n",
      "[Step 5300] Past 100 steps: Average Loss 0.164 | Accuracy: 95%\n",
      "[Step 5400] Past 100 steps: Average Loss 0.100 | Accuracy: 96%\n",
      "[Step 5500] Past 100 steps: Average Loss 0.240 | Accuracy: 93%\n",
      "[Step 5600] Past 100 steps: Average Loss 0.159 | Accuracy: 96%\n",
      "[Step 5700] Past 100 steps: Average Loss 0.176 | Accuracy: 95%\n",
      "[Step 5800] Past 100 steps: Average Loss 0.074 | Accuracy: 99%\n",
      "[Step 5900] Past 100 steps: Average Loss 0.091 | Accuracy: 97%\n",
      "[Step 6000] Past 100 steps: Average Loss 0.065 | Accuracy: 99%\n"
     ]
    },
    {
     "name": "stdout",
     "output_type": "stream",
     "text": [
      "[Step 6100] Past 100 steps: Average Loss 0.117 | Accuracy: 97%\n",
      "[Step 6200] Past 100 steps: Average Loss 0.120 | Accuracy: 98%\n",
      "[Step 6300] Past 100 steps: Average Loss 0.161 | Accuracy: 95%\n",
      "[Step 6400] Past 100 steps: Average Loss 0.163 | Accuracy: 94%\n",
      "[Step 6500] Past 100 steps: Average Loss 0.128 | Accuracy: 98%\n",
      "[Step 6600] Past 100 steps: Average Loss 0.196 | Accuracy: 94%\n",
      "[Step 6700] Past 100 steps: Average Loss 0.179 | Accuracy: 95%\n",
      "[Step 6800] Past 100 steps: Average Loss 0.243 | Accuracy: 91%\n",
      "[Step 6900] Past 100 steps: Average Loss 0.148 | Accuracy: 95%\n",
      "[Step 7000] Past 100 steps: Average Loss 0.446 | Accuracy: 93%\n",
      "[Step 7100] Past 100 steps: Average Loss 0.138 | Accuracy: 96%\n",
      "[Step 7200] Past 100 steps: Average Loss 0.188 | Accuracy: 94%\n",
      "[Step 7300] Past 100 steps: Average Loss 0.116 | Accuracy: 96%\n",
      "[Step 7400] Past 100 steps: Average Loss 0.240 | Accuracy: 96%\n",
      "[Step 7500] Past 100 steps: Average Loss 0.184 | Accuracy: 94%\n",
      "[Step 7600] Past 100 steps: Average Loss 0.154 | Accuracy: 94%\n",
      "[Step 7700] Past 100 steps: Average Loss 0.235 | Accuracy: 92%\n",
      "[Step 7800] Past 100 steps: Average Loss 0.353 | Accuracy: 90%\n",
      "[Step 7900] Past 100 steps: Average Loss 0.131 | Accuracy: 96%\n",
      "[Step 8000] Past 100 steps: Average Loss 0.241 | Accuracy: 91%\n",
      "[Step 8100] Past 100 steps: Average Loss 0.158 | Accuracy: 95%\n",
      "[Step 8200] Past 100 steps: Average Loss 0.194 | Accuracy: 96%\n",
      "[Step 8300] Past 100 steps: Average Loss 0.198 | Accuracy: 96%\n",
      "[Step 8400] Past 100 steps: Average Loss 0.221 | Accuracy: 97%\n",
      "[Step 8500] Past 100 steps: Average Loss 0.167 | Accuracy: 91%\n",
      "[Step 8600] Past 100 steps: Average Loss 0.180 | Accuracy: 93%\n",
      "[Step 8700] Past 100 steps: Average Loss 0.158 | Accuracy: 93%\n",
      "[Step 8800] Past 100 steps: Average Loss 0.122 | Accuracy: 97%\n",
      "[Step 8900] Past 100 steps: Average Loss 0.173 | Accuracy: 95%\n",
      "[Step 9000] Past 100 steps: Average Loss 0.146 | Accuracy: 95%\n",
      "[Step 9100] Past 100 steps: Average Loss 0.248 | Accuracy: 93%\n",
      "[Step 9200] Past 100 steps: Average Loss 0.227 | Accuracy: 93%\n",
      "[Step 9300] Past 100 steps: Average Loss 0.207 | Accuracy: 93%\n",
      "[Step 9400] Past 100 steps: Average Loss 0.266 | Accuracy: 94%\n",
      "[Step 9500] Past 100 steps: Average Loss 0.127 | Accuracy: 95%\n",
      "[Step 9600] Past 100 steps: Average Loss 0.124 | Accuracy: 97%\n",
      "[Step 9700] Past 100 steps: Average Loss 0.221 | Accuracy: 94%\n",
      "[Step 9800] Past 100 steps: Average Loss 0.188 | Accuracy: 96%\n",
      "[Step 9900] Past 100 steps: Average Loss 0.260 | Accuracy: 94%\n",
      "[Step 10000] Past 100 steps: Average Loss 0.243 | Accuracy: 94%\n",
      "--- Epoch 4 ---\n",
      "[Step 100] Past 100 steps: Average Loss 0.083 | Accuracy: 97%\n",
      "[Step 200] Past 100 steps: Average Loss 0.211 | Accuracy: 94%\n",
      "[Step 300] Past 100 steps: Average Loss 0.283 | Accuracy: 90%\n",
      "[Step 400] Past 100 steps: Average Loss 0.117 | Accuracy: 96%\n",
      "[Step 500] Past 100 steps: Average Loss 0.060 | Accuracy: 99%\n",
      "[Step 600] Past 100 steps: Average Loss 0.136 | Accuracy: 97%\n",
      "[Step 700] Past 100 steps: Average Loss 0.199 | Accuracy: 94%\n",
      "[Step 800] Past 100 steps: Average Loss 0.231 | Accuracy: 94%\n",
      "[Step 900] Past 100 steps: Average Loss 0.195 | Accuracy: 95%\n",
      "[Step 1000] Past 100 steps: Average Loss 0.122 | Accuracy: 96%\n",
      "[Step 1100] Past 100 steps: Average Loss 0.105 | Accuracy: 97%\n",
      "[Step 1200] Past 100 steps: Average Loss 0.164 | Accuracy: 96%\n",
      "[Step 1300] Past 100 steps: Average Loss 0.116 | Accuracy: 98%\n",
      "[Step 1400] Past 100 steps: Average Loss 0.256 | Accuracy: 94%\n",
      "[Step 1500] Past 100 steps: Average Loss 0.110 | Accuracy: 97%\n",
      "[Step 1600] Past 100 steps: Average Loss 0.077 | Accuracy: 98%\n",
      "[Step 1700] Past 100 steps: Average Loss 0.146 | Accuracy: 94%\n",
      "[Step 1800] Past 100 steps: Average Loss 0.182 | Accuracy: 91%\n",
      "[Step 1900] Past 100 steps: Average Loss 0.202 | Accuracy: 95%\n",
      "[Step 2000] Past 100 steps: Average Loss 0.191 | Accuracy: 95%\n",
      "[Step 2100] Past 100 steps: Average Loss 0.272 | Accuracy: 94%\n",
      "[Step 2200] Past 100 steps: Average Loss 0.152 | Accuracy: 94%\n",
      "[Step 2300] Past 100 steps: Average Loss 0.153 | Accuracy: 97%\n",
      "[Step 2400] Past 100 steps: Average Loss 0.133 | Accuracy: 95%\n",
      "[Step 2500] Past 100 steps: Average Loss 0.156 | Accuracy: 96%\n",
      "[Step 2600] Past 100 steps: Average Loss 0.095 | Accuracy: 96%\n",
      "[Step 2700] Past 100 steps: Average Loss 0.266 | Accuracy: 93%\n",
      "[Step 2800] Past 100 steps: Average Loss 0.155 | Accuracy: 95%\n",
      "[Step 2900] Past 100 steps: Average Loss 0.127 | Accuracy: 97%\n",
      "[Step 3000] Past 100 steps: Average Loss 0.244 | Accuracy: 94%\n",
      "[Step 3100] Past 100 steps: Average Loss 0.145 | Accuracy: 97%\n",
      "[Step 3200] Past 100 steps: Average Loss 0.133 | Accuracy: 97%\n",
      "[Step 3300] Past 100 steps: Average Loss 0.125 | Accuracy: 97%\n",
      "[Step 3400] Past 100 steps: Average Loss 0.165 | Accuracy: 94%\n",
      "[Step 3500] Past 100 steps: Average Loss 0.162 | Accuracy: 94%\n",
      "[Step 3600] Past 100 steps: Average Loss 0.085 | Accuracy: 97%\n",
      "[Step 3700] Past 100 steps: Average Loss 0.226 | Accuracy: 94%\n",
      "[Step 3800] Past 100 steps: Average Loss 0.126 | Accuracy: 95%\n",
      "[Step 3900] Past 100 steps: Average Loss 0.102 | Accuracy: 97%\n",
      "[Step 4000] Past 100 steps: Average Loss 0.147 | Accuracy: 93%\n",
      "[Step 4100] Past 100 steps: Average Loss 0.153 | Accuracy: 93%\n",
      "[Step 4200] Past 100 steps: Average Loss 0.120 | Accuracy: 96%\n",
      "[Step 4300] Past 100 steps: Average Loss 0.120 | Accuracy: 96%\n",
      "[Step 4400] Past 100 steps: Average Loss 0.089 | Accuracy: 98%\n",
      "[Step 4500] Past 100 steps: Average Loss 0.177 | Accuracy: 97%\n",
      "[Step 4600] Past 100 steps: Average Loss 0.132 | Accuracy: 95%\n",
      "[Step 4700] Past 100 steps: Average Loss 0.179 | Accuracy: 93%\n",
      "[Step 4800] Past 100 steps: Average Loss 0.128 | Accuracy: 96%\n",
      "[Step 4900] Past 100 steps: Average Loss 0.070 | Accuracy: 98%\n",
      "[Step 5000] Past 100 steps: Average Loss 0.146 | Accuracy: 97%\n",
      "[Step 5100] Past 100 steps: Average Loss 0.158 | Accuracy: 96%\n",
      "[Step 5200] Past 100 steps: Average Loss 0.152 | Accuracy: 94%\n",
      "[Step 5300] Past 100 steps: Average Loss 0.290 | Accuracy: 89%\n",
      "[Step 5400] Past 100 steps: Average Loss 0.283 | Accuracy: 92%\n",
      "[Step 5500] Past 100 steps: Average Loss 0.154 | Accuracy: 95%\n",
      "[Step 5600] Past 100 steps: Average Loss 0.074 | Accuracy: 98%\n",
      "[Step 5700] Past 100 steps: Average Loss 0.164 | Accuracy: 94%\n",
      "[Step 5800] Past 100 steps: Average Loss 0.102 | Accuracy: 97%\n",
      "[Step 5900] Past 100 steps: Average Loss 0.194 | Accuracy: 94%\n",
      "[Step 6000] Past 100 steps: Average Loss 0.039 | Accuracy: 100%\n",
      "[Step 6100] Past 100 steps: Average Loss 0.072 | Accuracy: 98%\n",
      "[Step 6200] Past 100 steps: Average Loss 0.173 | Accuracy: 96%\n",
      "[Step 6300] Past 100 steps: Average Loss 0.198 | Accuracy: 93%\n",
      "[Step 6400] Past 100 steps: Average Loss 0.129 | Accuracy: 96%\n",
      "[Step 6500] Past 100 steps: Average Loss 0.103 | Accuracy: 96%\n",
      "[Step 6600] Past 100 steps: Average Loss 0.212 | Accuracy: 92%\n",
      "[Step 6700] Past 100 steps: Average Loss 0.101 | Accuracy: 98%\n",
      "[Step 6800] Past 100 steps: Average Loss 0.162 | Accuracy: 95%\n",
      "[Step 6900] Past 100 steps: Average Loss 0.149 | Accuracy: 96%\n",
      "[Step 7000] Past 100 steps: Average Loss 0.104 | Accuracy: 97%\n",
      "[Step 7100] Past 100 steps: Average Loss 0.101 | Accuracy: 96%\n",
      "[Step 7200] Past 100 steps: Average Loss 0.087 | Accuracy: 96%\n",
      "[Step 7300] Past 100 steps: Average Loss 0.188 | Accuracy: 94%\n",
      "[Step 7400] Past 100 steps: Average Loss 0.156 | Accuracy: 93%\n",
      "[Step 7500] Past 100 steps: Average Loss 0.239 | Accuracy: 95%\n",
      "[Step 7600] Past 100 steps: Average Loss 0.087 | Accuracy: 98%\n",
      "[Step 7700] Past 100 steps: Average Loss 0.182 | Accuracy: 93%\n",
      "[Step 7800] Past 100 steps: Average Loss 0.188 | Accuracy: 96%\n",
      "[Step 7900] Past 100 steps: Average Loss 0.247 | Accuracy: 92%\n",
      "[Step 8000] Past 100 steps: Average Loss 0.095 | Accuracy: 97%\n",
      "[Step 8100] Past 100 steps: Average Loss 0.122 | Accuracy: 97%\n",
      "[Step 8200] Past 100 steps: Average Loss 0.150 | Accuracy: 96%\n",
      "[Step 8300] Past 100 steps: Average Loss 0.181 | Accuracy: 93%\n",
      "[Step 8400] Past 100 steps: Average Loss 0.154 | Accuracy: 98%\n",
      "[Step 8500] Past 100 steps: Average Loss 0.098 | Accuracy: 95%\n",
      "[Step 8600] Past 100 steps: Average Loss 0.152 | Accuracy: 95%\n",
      "[Step 8700] Past 100 steps: Average Loss 0.164 | Accuracy: 95%\n",
      "[Step 8800] Past 100 steps: Average Loss 0.095 | Accuracy: 98%\n",
      "[Step 8900] Past 100 steps: Average Loss 0.172 | Accuracy: 95%\n",
      "[Step 9000] Past 100 steps: Average Loss 0.117 | Accuracy: 96%\n"
     ]
    },
    {
     "name": "stdout",
     "output_type": "stream",
     "text": [
      "[Step 9100] Past 100 steps: Average Loss 0.110 | Accuracy: 96%\n",
      "[Step 9200] Past 100 steps: Average Loss 0.129 | Accuracy: 95%\n",
      "[Step 9300] Past 100 steps: Average Loss 0.165 | Accuracy: 96%\n",
      "[Step 9400] Past 100 steps: Average Loss 0.098 | Accuracy: 97%\n",
      "[Step 9500] Past 100 steps: Average Loss 0.137 | Accuracy: 94%\n",
      "[Step 9600] Past 100 steps: Average Loss 0.132 | Accuracy: 94%\n",
      "[Step 9700] Past 100 steps: Average Loss 0.070 | Accuracy: 99%\n",
      "[Step 9800] Past 100 steps: Average Loss 0.245 | Accuracy: 94%\n",
      "[Step 9900] Past 100 steps: Average Loss 0.240 | Accuracy: 93%\n",
      "[Step 10000] Past 100 steps: Average Loss 0.152 | Accuracy: 93%\n"
     ]
    }
   ],
   "source": [
    "# Train the CNN for k epochs\n",
    "acc_g = []\n",
    "loss_g = []\n",
    "for epoch in range(4):\n",
    "    print('--- Epoch %d ---' % (epoch + 1))\n",
    "\n",
    "    permutation = np.random.permutation(len(train_images))\n",
    "    train_images = train_images[permutation]\n",
    "    train_labels = train_labels[permutation]\n",
    "\n",
    "    loss = 0\n",
    "    num_correct = 0\n",
    "\n",
    "    corr_pred = 0\n",
    "\n",
    "    for i, (im, label) in enumerate(zip(train_images, train_labels)):\n",
    "        if i % 100 == 99:\n",
    "            print(\n",
    "                '[Step %d] Past 100 steps: Average Loss %.3f | Accuracy: %d%%' %\n",
    "                (i + 1, loss / 100, num_correct)\n",
    "              )\n",
    "            loss = 0\n",
    "            num_correct = 0\n",
    "\n",
    "        l, acc = train(im, label)\n",
    "        loss += l\n",
    "        num_correct += acc\n",
    "        corr_pred += acc\n",
    "    loss_g.append(loss/n)\n",
    "    acc_g.append(corr_pred/n)\n",
    "    corr_pred = 0\n"
   ]
  },
  {
   "cell_type": "code",
   "execution_count": 14,
   "id": "389d3954",
   "metadata": {},
   "outputs": [
    {
     "name": "stdout",
     "output_type": "stream",
     "text": [
      "Accuracy over epochs:  [0.8579, 0.9274, 0.9437, 0.9538]\n"
     ]
    }
   ],
   "source": [
    "print ('Accuracy over epochs: ', acc_g)"
   ]
  },
  {
   "cell_type": "code",
   "execution_count": 15,
   "id": "86a37578",
   "metadata": {},
   "outputs": [
    {
     "data": {
      "image/png": "[encoded data removed]",
      "text/plain": [
       "<Figure size 432x288 with 1 Axes>"
      ]
     },
     "metadata": {
      "needs_background": "light"
     },
     "output_type": "display_data"
    }
   ],
   "source": [
    "plt.plot(acc_g)\n",
    "plt.show()"
   ]
  },
  {
   "cell_type": "code",
   "execution_count": 16,
   "id": "803baac1",
   "metadata": {},
   "outputs": [
    {
     "data": {
      "image/png": "[encoded data removed]",
      "text/plain": [
       "<Figure size 432x288 with 1 Axes>"
      ]
     },
     "metadata": {
      "needs_background": "light"
     },
     "output_type": "display_data"
    }
   ],
   "source": [
    "plt.plot(loss_g,'-o')\n",
    "plt.xlabel('EPOCH')\n",
    "plt.ylabel('LOSS')\n",
    "plt.title('EPOCH vs LOSS')\n",
    "plt.show()"
   ]
  },
  {
   "cell_type": "code",
   "execution_count": 17,
   "id": "1fb67c24",
   "metadata": {},
   "outputs": [
    {
     "data": {
      "image/png": "[encoded data removed]",
      "text/plain": [
       "<Figure size 432x288 with 1 Axes>"
      ]
     },
     "metadata": {
      "needs_background": "light"
     },
     "output_type": "display_data"
    }
   ],
   "source": [
    "plt.plot(acc_g,'-o')\n",
    "plt.xlabel('EPOCH')\n",
    "plt.ylabel('ACCURACY')\n",
    "plt.title('EPOCH vs ACCURACY')\n",
    "plt.show()"
   ]
  },
  {
   "cell_type": "markdown",
   "id": "18e3bee9",
   "metadata": {},
   "source": [
    "# Testing"
   ]
  },
  {
   "cell_type": "code",
   "execution_count": 18,
   "id": "d68fbdca",
   "metadata": {},
   "outputs": [
    {
     "name": "stdout",
     "output_type": "stream",
     "text": [
      "\n",
      "--- Testing the CNN ---\n",
      "Test Loss: 0.22592413209588968\n",
      "Test Accuracy: 0.928\n"
     ]
    }
   ],
   "source": [
    "# Test the CNN\n",
    "print('\\n--- Testing the CNN ---')\n",
    "loss = 0\n",
    "num_correct = 0\n",
    "output = []\n",
    "for im, label in zip(test_images, test_labels):\n",
    "    out, l, acc = forward(im, label)\n",
    "    loss += l\n",
    "    num_correct += acc\n",
    "    output.append(np.argmax(out))\n",
    "num_tests = len(test_images)\n",
    "print('Test Loss:', loss / num_tests)\n",
    "print('Test Accuracy:', num_correct / num_tests)"
   ]
  },
  {
   "cell_type": "markdown",
   "id": "1e34e2e9",
   "metadata": {},
   "source": [
    "# Required Libraries for Confusion Matrix"
   ]
  },
  {
   "cell_type": "code",
   "execution_count": 19,
   "id": "a072f0cf",
   "metadata": {},
   "outputs": [],
   "source": [
    "from sklearn.metrics import confusion_matrix\n",
    "import seaborn as sns"
   ]
  },
  {
   "cell_type": "markdown",
   "id": "9a0fa3a0",
   "metadata": {},
   "source": [
    "# Confusion Matrix"
   ]
  },
  {
   "cell_type": "code",
   "execution_count": 20,
   "id": "96792cad",
   "metadata": {},
   "outputs": [
    {
     "name": "stdout",
     "output_type": "stream",
     "text": [
      "[[451   0   1   0   0   2   3   0   1   2]\n",
      " [  0 562   4   0   0   0   3   1   1   0]\n",
      " [  1   0 496   4   4   0   3   7  12   3]\n",
      " [  3   1  16 457   0  10   2   5   4   2]\n",
      " [  0   0   3   1 453   0   4   4  10  25]\n",
      " [  7   3   2   6   0 414   4   3  16   1]\n",
      " [  9   3   6   0   3  11 425   1   4   0]\n",
      " [  0   4  27   5   4   3   0 447   7  15]\n",
      " [  5   0   6  11   4   4   0   3 450   6]\n",
      " [  2   5   3   2   7   2   0   5   9 485]]\n"
     ]
    }
   ],
   "source": [
    "cm = confusion_matrix(test_labels[:5000], output)\n",
    "print(cm)"
   ]
  },
  {
   "cell_type": "code",
   "execution_count": 25,
   "id": "e17e509b",
   "metadata": {},
   "outputs": [
    {
     "data": {
      "image/png": "[encoded data removed]",
      "text/plain": [
       "<Figure size 432x288 with 2 Axes>"
      ]
     },
     "metadata": {
      "needs_background": "light"
     },
     "output_type": "display_data"
    }
   ],
   "source": [
    "ax = sns.heatmap(cm, annot=True, cmap = plt.cm.magma)\n",
    "ax.plot(figsize = (50,50))\n",
    "ax.set_title('Confusion Matrix\\n\\n');\n",
    "ax.set_xlabel('\\nPredicted Values')\n",
    "ax.set_ylabel('Actual Values ');\n",
    "plt.show()"
   ]
  },
  {
   "cell_type": "code",
   "execution_count": null,
   "id": "1804eb51",
   "metadata": {},
   "outputs": [],
   "source": []
  }
 ],
 "metadata": {
  "kernelspec": {
   "display_name": "Python 3 (ipykernel)",
   "language": "python",
   "name": "python3"
  },
  "language_info": {
   "codemirror_mode": {
    "name": "ipython",
    "version": 3
   },
   "file_extension": ".py",
   "mimetype": "text/x-python",
   "name": "python",
   "nbconvert_exporter": "python",
   "pygments_lexer": "ipython3",
   "version": "3.9.7"
  }
 },
 "nbformat": 4,
 "nbformat_minor": 5
}
